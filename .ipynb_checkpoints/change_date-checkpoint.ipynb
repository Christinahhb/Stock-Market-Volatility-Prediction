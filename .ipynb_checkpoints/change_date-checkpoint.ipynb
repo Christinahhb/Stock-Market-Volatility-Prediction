{
 "cells": [
  {
   "cell_type": "code",
   "execution_count": 5,
   "id": "3b95f1c2",
   "metadata": {
    "scrolled": true
   },
   "outputs": [
    {
     "name": "stdout",
     "output_type": "stream",
     "text": [
      "Data has been processed and saved to: C:\\Users\\22749\\Desktop\\UoG\\Fintech\\Dissertation\\Data\\sorted_finbert.xlsx\n"
     ]
    }
   ],
   "source": [
    "import pandas as pd\n",
    "\n",
    "# Load your existing data from the Excel file\n",
    "file_path = r'C:\\Users\\22749\\Desktop\\UoG\\Fintech\\Dissertation\\Data\\sentiment_results.xlsx'\n",
    "df = pd.read_excel(file_path)\n",
    "\n",
    "# Function to convert month name to number\n",
    "def month_to_number(month_name):\n",
    "    month_dict = {\n",
    "        \"January\": \"01\", \"February\": \"02\", \"March\": \"03\", \"April\": \"04\",\n",
    "        \"May\": \"05\", \"June\": \"06\", \"July\": \"07\", \"August\": \"08\",\n",
    "        \"September\": \"09\", \"October\": \"10\", \"November\": \"11\", \"December\": \"12\"\n",
    "    }\n",
    "    return month_dict[month_name]\n",
    "\n",
    "# Function to extract date from filename\n",
    "def extract_date(filename):\n",
    "    parts = filename.split('_')\n",
    "    month = parts[0]\n",
    "    year = parts[1].split('.')[0]\n",
    "    return f\"{month} {year}\"\n",
    "\n",
    "# Function to create a numerical date format\n",
    "def convert_to_numeric_date(date_str):\n",
    "    parts = date_str.split(' ')\n",
    "    month = month_to_number(parts[0])\n",
    "    year = parts[1]\n",
    "    return f\"{year}-{month}\"\n",
    "\n",
    "# Apply the function to create a new Date column and a Numeric_Date column\n",
    "df['Date'] = df['Filename'].apply(extract_date)\n",
    "df['Numeric_Date'] = df['Date'].apply(convert_to_numeric_date)\n",
    "\n",
    "# Sort the DataFrame by the Numeric_Date\n",
    "df_sorted = df.sort_values(by='Numeric_Date').reset_index(drop=True)\n",
    "\n",
    "# Save the sorted DataFrame to a new Excel file\n",
    "output_path = r'C:\\Users\\22749\\Desktop\\UoG\\Fintech\\Dissertation\\Data\\sorted_finbert.xlsx'\n",
    "df_sorted.to_excel(output_path, index=False)\n",
    "\n",
    "print(\"Data has been processed and saved to:\", output_path)\n"
   ]
  },
  {
   "cell_type": "code",
   "execution_count": 6,
   "id": "b21c6e04",
   "metadata": {},
   "outputs": [
    {
     "ename": "NameError",
     "evalue": "name 'data' is not defined",
     "output_type": "error",
     "traceback": [
      "\u001b[1;31m---------------------------------------------------------------------------\u001b[0m",
      "\u001b[1;31mNameError\u001b[0m                                 Traceback (most recent call last)",
      "\u001b[1;32m~\\AppData\\Local\\Temp\\ipykernel_20596\\4130156815.py\u001b[0m in \u001b[0;36m<module>\u001b[1;34m\u001b[0m\n\u001b[1;32m----> 1\u001b[1;33m \u001b[0mdata\u001b[0m\u001b[1;33m.\u001b[0m\u001b[0mindex\u001b[0m\u001b[1;33m\u001b[0m\u001b[1;33m\u001b[0m\u001b[0m\n\u001b[0m",
      "\u001b[1;31mNameError\u001b[0m: name 'data' is not defined"
     ]
    }
   ],
   "source": [
    "data.index"
   ]
  },
  {
   "cell_type": "code",
   "execution_count": 7,
   "id": "d12a0042",
   "metadata": {},
   "outputs": [
    {
     "name": "stdout",
     "output_type": "stream",
     "text": [
      "Monthly mean values saved to 'monthly_mean_close_values.xlsx'\n"
     ]
    }
   ],
   "source": [
    "import pandas as pd\n",
    "\n",
    "# Load the data\n",
    "spxd_data = pd.read_excel('C:/Users/22749/Desktop/UoG/Fintech/Dissertation/Data/Indicator/_SPXD.xlsx', sheet_name='Price Data')\n",
    "spxtrd_data = pd.read_excel('C:/Users/22749/Desktop/UoG/Fintech/Dissertation/Data/Indicator/_SPXTRD.xlsx', sheet_name='Price Data')\n",
    "vixd_data = pd.read_excel('C:/Users/22749/Desktop/UoG/Fintech/Dissertation/Data/Indicator/_VIXD.xlsx', sheet_name='Price Data')\n",
    "\n",
    "# Ensure the 'Date' columns are in datetime format\n",
    "spxd_data['Date'] = pd.to_datetime(spxd_data['Date'])\n",
    "spxtrd_data['Date'] = pd.to_datetime(spxtrd_data['Date'])\n",
    "vixd_data['Date'] = pd.to_datetime(vixd_data['Date'])\n",
    "\n",
    "# Set the 'Date' columns as the index\n",
    "spxd_data.set_index('Date', inplace=True)\n",
    "spxtrd_data.set_index('Date', inplace=True)\n",
    "vixd_data.set_index('Date', inplace=True)\n",
    "\n",
    "# Calculate the monthly mean for 'Close' values\n",
    "spxd_monthly_mean = spxd_data['Close_spxd'].resample('M').mean()\n",
    "spxtrd_monthly_mean = spxtrd_data['Close_spxtrd'].resample('M').mean()\n",
    "vixd_monthly_mean = vixd_data['Close_vixd'].resample('M').mean()\n",
    "\n",
    "# Create a DataFrame to store the results\n",
    "monthly_mean_df = pd.DataFrame({\n",
    "    'SPXD_Mean': spxd_monthly_mean,\n",
    "    'SPXTRD_Mean': spxtrd_monthly_mean,\n",
    "    'VIXD_Mean': vixd_monthly_mean\n",
    "})\n",
    "\n",
    "# Save the results to a new Excel file\n",
    "monthly_mean_df.to_excel('C:/Users/22749/Desktop/UoG/Fintech/Dissertation/Data/monthly_mean_close_values.xlsx', sheet_name='Monthly Mean')\n",
    "\n",
    "print(\"Monthly mean values saved to 'monthly_mean_close_values.xlsx'\")\n"
   ]
  },
  {
   "cell_type": "code",
   "execution_count": 9,
   "id": "3173719c",
   "metadata": {},
   "outputs": [
    {
     "name": "stdout",
     "output_type": "stream",
     "text": [
      "Monthly mean values saved to 'C:/Users/22749/Desktop/UoG/Fintech/Dissertation/Data/monthly_mean_close_values.xlsx'\n"
     ]
    }
   ],
   "source": [
    "import pandas as pd\n",
    "\n",
    "# Load the data\n",
    "spxd_data = pd.read_excel('C:/Users/22749/Desktop/UoG/Fintech/Dissertation/Data/Indicator/_SPXD.xlsx', sheet_name='Price Data')\n",
    "spxtrd_data = pd.read_excel('C:/Users/22749/Desktop/UoG/Fintech/Dissertation/Data/Indicator/_SPXTRD.xlsx', sheet_name='Price Data')\n",
    "vixd_data = pd.read_excel('C:/Users/22749/Desktop/UoG/Fintech/Dissertation/Data/Indicator/_VIXD.xlsx', sheet_name='Price Data')\n",
    "\n",
    "\n",
    "# Ensure the 'Date' columns are in datetime format\n",
    "spxd_data['Date'] = pd.to_datetime(spxd_data['Date'])\n",
    "spxtrd_data['Date'] = pd.to_datetime(spxtrd_data['Date'])\n",
    "vixd_data['Date'] = pd.to_datetime(vixd_data['Date'])\n",
    "\n",
    "# Set the 'Date' columns as the index\n",
    "spxd_data.set_index('Date', inplace=True)\n",
    "spxtrd_data.set_index('Date', inplace=True)\n",
    "vixd_data.set_index('Date', inplace=True)\n",
    "\n",
    "# Calculate the monthly mean for 'Close' values\n",
    "spxd_monthly_mean = spxd_data['Close_spxd'].resample('M').mean()\n",
    "spxtrd_monthly_mean = spxtrd_data['Close_spxtrd'].resample('M').mean()\n",
    "vixd_monthly_mean = vixd_data['Close_vixd'].resample('M').mean()\n",
    "\n",
    "# Create a DataFrame to store the results\n",
    "monthly_mean_df = pd.DataFrame({\n",
    "    'Date':  spxd_monthly_mean.index.strftime('%Y-%m'),\n",
    "    'SPXD_Mean': spxd_monthly_mean.values,\n",
    "    'SPXTRD_Mean': spxtrd_monthly_mean.values,\n",
    "    'VIXD_Mean': vixd_monthly_mean.values\n",
    "})\n",
    "\n",
    "# Save the results to a new Excel file\n",
    "output_path = 'C:/Users/22749/Desktop/UoG/Fintech/Dissertation/Data/monthly_mean_close_values.xlsx'\n",
    "monthly_mean_df.to_excel(output_path, sheet_name='Monthly Mean', index=False)\n",
    "\n",
    "print(f\"Monthly mean values saved to '{output_path}'\")\n"
   ]
  },
  {
   "cell_type": "code",
   "execution_count": 10,
   "id": "b7c23d2f",
   "metadata": {},
   "outputs": [
    {
     "name": "stdout",
     "output_type": "stream",
     "text": [
      "SPXD monthly mean values saved to 'C:/Users/22749/Desktop/UoG/Fintech/Dissertation/Data/spxd_values.xlsx'\n",
      "SPXTRD monthly mean values saved to 'C:/Users/22749/Desktop/UoG/Fintech/Dissertation/Data/spxtrd_values.xlsx'\n",
      "VIXD monthly mean values saved to 'C:/Users/22749/Desktop/UoG/Fintech/Dissertation/Data/vixd_values.xlsx'\n"
     ]
    }
   ],
   "source": [
    "import pandas as pd\n",
    "\n",
    "# 加载数据\n",
    "spxd_data = pd.read_excel('C:/Users/22749/Desktop/UoG/Fintech/Dissertation/Data/Indicator/_SPXD.xlsx', sheet_name='Price Data')\n",
    "spxtrd_data = pd.read_excel('C:/Users/22749/Desktop/UoG/Fintech/Dissertation/Data/Indicator/_SPXTRD.xlsx', sheet_name='Price Data')\n",
    "vixd_data = pd.read_excel('C:/Users/22749/Desktop/UoG/Fintech/Dissertation/Data/Indicator/_VIXD.xlsx', sheet_name='Price Data')\n",
    "\n",
    "# 确保 'Date' 列为 datetime 格式\n",
    "spxd_data['Date'] = pd.to_datetime(spxd_data['Date'])\n",
    "spxtrd_data['Date'] = pd.to_datetime(spxtrd_data['Date'])\n",
    "vixd_data['Date'] = pd.to_datetime(vixd_data['Date'])\n",
    "\n",
    "# 设置 'Date' 列为索引\n",
    "spxd_data.set_index('Date', inplace=True)\n",
    "spxtrd_data.set_index('Date', inplace=True)\n",
    "vixd_data.set_index('Date', inplace=True)\n",
    "\n",
    "# 计算 'Close' 值的月平均值\n",
    "spxd_monthly_mean = spxd_data['Close_spxd'].resample('M').mean()\n",
    "spxtrd_monthly_mean = spxtrd_data['Close_spxtrd'].resample('M').mean()\n",
    "vixd_monthly_mean = vixd_data['Close_vixd'].resample('M').mean()\n",
    "\n",
    "# 创建并保存 SPXD 月平均值的 DataFrame\n",
    "spxd_monthly_df = pd.DataFrame({\n",
    "    'Date': spxd_monthly_mean.index.strftime('%Y-%m'),\n",
    "    'SPXD_Mean': spxd_monthly_mean.values\n",
    "})\n",
    "output_path_spxd = 'C:/Users/22749/Desktop/UoG/Fintech/Dissertation/Data/spxd_values.xlsx'\n",
    "spxd_monthly_df.to_excel(output_path_spxd, sheet_name='Monthly Mean', index=False)\n",
    "\n",
    "# 创建并保存 SPXTRD 月平均值的 DataFrame\n",
    "spxtrd_monthly_df = pd.DataFrame({\n",
    "    'Date': spxtrd_monthly_mean.index.strftime('%Y-%m'),\n",
    "    'SPXTRD_Mean': spxtrd_monthly_mean.values\n",
    "})\n",
    "output_path_spxtrd = 'C:/Users/22749/Desktop/UoG/Fintech/Dissertation/Data/spxtrd_values.xlsx'\n",
    "spxtrd_monthly_df.to_excel(output_path_spxtrd, sheet_name='Monthly Mean', index=False)\n",
    "\n",
    "# 创建并保存 VIXD 月平均值的 DataFrame\n",
    "vixd_monthly_df = pd.DataFrame({\n",
    "    'Date': vixd_monthly_mean.index.strftime('%Y-%m'),\n",
    "    'VIXD_Mean': vixd_monthly_mean.values\n",
    "})\n",
    "output_path_vixd = 'C:/Users/22749/Desktop/UoG/Fintech/Dissertation/Data/vixd_values.xlsx'\n",
    "vixd_monthly_df.to_excel(output_path_vixd, sheet_name='Monthly Mean', index=False)\n",
    "\n",
    "print(f\"SPXD monthly mean values saved to '{output_path_spxd}'\")\n",
    "print(f\"SPXTRD monthly mean values saved to '{output_path_spxtrd}'\")\n",
    "print(f\"VIXD monthly mean values saved to '{output_path_vixd}'\")\n"
   ]
  },
  {
   "cell_type": "code",
   "execution_count": null,
   "id": "4dd51a30",
   "metadata": {},
   "outputs": [],
   "source": []
  }
 ],
 "metadata": {
  "kernelspec": {
   "display_name": "Python (myenv)",
   "language": "python",
   "name": "myenv"
  },
  "language_info": {
   "codemirror_mode": {
    "name": "ipython",
    "version": 3
   },
   "file_extension": ".py",
   "mimetype": "text/x-python",
   "name": "python",
   "nbconvert_exporter": "python",
   "pygments_lexer": "ipython3",
   "version": "3.7.1"
  }
 },
 "nbformat": 4,
 "nbformat_minor": 5
}
