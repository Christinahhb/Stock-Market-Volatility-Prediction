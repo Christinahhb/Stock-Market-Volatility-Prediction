{
 "cells": [
  {
   "cell_type": "code",
   "execution_count": 1,
   "id": "17345545",
   "metadata": {},
   "outputs": [
    {
     "name": "stdout",
     "output_type": "stream",
     "text": [
      "Monthly volatility calculated and written to: C:/Users/22749/Desktop/UoG/Fintech/Dissertation/Data/modified_SPXTRD_with_volatility.xlsx\n"
     ]
    }
   ],
   "source": [
    "import pandas as pd\n",
    "import numpy as np\n",
    "\n",
    "# 读取数据\n",
    "file_path = 'C:/Users/22749/Desktop/UoG/Fintech/Dissertation/Data/modified_SPXTRD.xlsx'\n",
    "sheet_name = 'Price Data'\n",
    "\n",
    "# 读取Excel文件中的数据\n",
    "spxtrd_data = pd.read_excel(file_path, sheet_name=sheet_name)\n",
    "\n",
    "# 确保日期列为datetime类型，并设置为索引\n",
    "spxtrd_data['Date'] = pd.to_datetime(spxtrd_data['Date'])\n",
    "spxtrd_data.set_index('Date', inplace=True)\n",
    "\n",
    "# 计算每日对数收益率\n",
    "spxtrd_data['Log_Return'] = np.log(spxtrd_data['Close'] / spxtrd_data['Close'].shift(1))\n",
    "\n",
    "# 按月份计算移动标准差（波动性）\n",
    "spxtrd_data['Monthly_Volatility'] = spxtrd_data['Log_Return'].resample('M').std() * np.sqrt(30)\n",
    "\n",
    "# 填充空值\n",
    "spxtrd_data['Monthly_Volatility'].fillna(0, inplace=True)\n",
    "\n",
    "# 将结果写回Excel文件\n",
    "output_file_path = 'C:/Users/22749/Desktop/UoG/Fintech/Dissertation/Data/modified_SPXTRD_with_volatility.xlsx'\n",
    "with pd.ExcelWriter(output_file_path, engine='xlsxwriter') as writer:\n",
    "    spxtrd_data.to_excel(writer, sheet_name=sheet_name)\n",
    "\n",
    "print(\"Monthly volatility calculated and written to:\", output_file_path)\n"
   ]
  },
  {
   "cell_type": "code",
   "execution_count": 5,
   "id": "1d7924ee",
   "metadata": {},
   "outputs": [
    {
     "name": "stdout",
     "output_type": "stream",
     "text": [
      "Data head:\n",
      "            index   Ticker     Open     High      Low    Close  \\\n",
      "Date                                                             \n",
      "2020-01-01      0  _SPXTRD  6582.55  6776.35  6522.34  6551.00   \n",
      "2020-02-01      1  _SPXTRD  6571.68  6901.42  5811.55  6011.73   \n",
      "2020-03-01      2  _SPXTRD  6052.69  6383.33  4466.72  5269.20   \n",
      "2020-04-01      3  _SPXTRD  5092.85  6031.08  4989.73  5944.68   \n",
      "2020-05-01      4  _SPXTRD  5856.87  6276.60  5654.23  6227.81   \n",
      "\n",
      "            Period_Average  SPXTRD_Mean  \n",
      "Date                                     \n",
      "2020-01-01     6654.572857      6551.00  \n",
      "2020-02-01     6662.508421      6011.73  \n",
      "2020-03-01     5402.571364      5269.20  \n",
      "2020-04-01     5635.316667      5944.68  \n",
      "2020-05-01     5966.447500      6227.81  \n",
      "Log Returns head:\n",
      "Date\n",
      "2020-01-01         NaN\n",
      "2020-02-01   -0.085905\n",
      "2020-03-01   -0.131834\n",
      "2020-04-01    0.120618\n",
      "2020-05-01    0.046528\n",
      "Name: Log_Return, dtype: float64\n",
      "Monthly Volatility head:\n",
      "Date\n",
      "2020-01-01    0.0\n",
      "2020-02-01    0.0\n",
      "2020-03-01    0.0\n",
      "2020-04-01    0.0\n",
      "2020-05-01    0.0\n",
      "Name: Monthly_Volatility, dtype: float64\n"
     ]
    },
    {
     "ename": "FileNotFoundError",
     "evalue": "[Errno 2] No such file or directory: '/mnt/data/modified_SPXTRD_with_volatility.xlsx'",
     "output_type": "error",
     "traceback": [
      "\u001b[1;31m---------------------------------------------------------------------------\u001b[0m",
      "\u001b[1;31mFileNotFoundError\u001b[0m                         Traceback (most recent call last)",
      "\u001b[1;32m~\\AppData\\Local\\Temp\\ipykernel_4772\\510455758.py\u001b[0m in \u001b[0;36m<module>\u001b[1;34m\u001b[0m\n\u001b[0;32m     39\u001b[0m \u001b[1;31m# 将结果写回Excel文件\u001b[0m\u001b[1;33m\u001b[0m\u001b[1;33m\u001b[0m\u001b[1;33m\u001b[0m\u001b[0m\n\u001b[0;32m     40\u001b[0m \u001b[0moutput_file_path\u001b[0m \u001b[1;33m=\u001b[0m \u001b[1;34m'/mnt/data/modified_SPXTRD_with_volatility.xlsx'\u001b[0m\u001b[1;33m\u001b[0m\u001b[1;33m\u001b[0m\u001b[0m\n\u001b[1;32m---> 41\u001b[1;33m \u001b[1;32mwith\u001b[0m \u001b[0mpd\u001b[0m\u001b[1;33m.\u001b[0m\u001b[0mExcelWriter\u001b[0m\u001b[1;33m(\u001b[0m\u001b[0moutput_file_path\u001b[0m\u001b[1;33m,\u001b[0m \u001b[0mengine\u001b[0m\u001b[1;33m=\u001b[0m\u001b[1;34m'xlsxwriter'\u001b[0m\u001b[1;33m)\u001b[0m \u001b[1;32mas\u001b[0m \u001b[0mwriter\u001b[0m\u001b[1;33m:\u001b[0m\u001b[1;33m\u001b[0m\u001b[1;33m\u001b[0m\u001b[0m\n\u001b[0m\u001b[0;32m     42\u001b[0m     \u001b[0mspxtrd_data\u001b[0m\u001b[1;33m.\u001b[0m\u001b[0mto_excel\u001b[0m\u001b[1;33m(\u001b[0m\u001b[0mwriter\u001b[0m\u001b[1;33m,\u001b[0m \u001b[0msheet_name\u001b[0m\u001b[1;33m=\u001b[0m\u001b[0msheet_name\u001b[0m\u001b[1;33m)\u001b[0m\u001b[1;33m\u001b[0m\u001b[1;33m\u001b[0m\u001b[0m\n\u001b[0;32m     43\u001b[0m \u001b[1;33m\u001b[0m\u001b[0m\n",
      "\u001b[1;32m~\\anaconda3\\envs\\myenv\\lib\\site-packages\\pandas\\io\\excel\\_xlsxwriter.py\u001b[0m in \u001b[0;36m__init__\u001b[1;34m(self, path, engine, date_format, datetime_format, mode, storage_options, if_sheet_exists, engine_kwargs, **kwargs)\u001b[0m\n\u001b[0;32m    197\u001b[0m             \u001b[0mstorage_options\u001b[0m\u001b[1;33m=\u001b[0m\u001b[0mstorage_options\u001b[0m\u001b[1;33m,\u001b[0m\u001b[1;33m\u001b[0m\u001b[1;33m\u001b[0m\u001b[0m\n\u001b[0;32m    198\u001b[0m             \u001b[0mif_sheet_exists\u001b[0m\u001b[1;33m=\u001b[0m\u001b[0mif_sheet_exists\u001b[0m\u001b[1;33m,\u001b[0m\u001b[1;33m\u001b[0m\u001b[1;33m\u001b[0m\u001b[0m\n\u001b[1;32m--> 199\u001b[1;33m             \u001b[0mengine_kwargs\u001b[0m\u001b[1;33m=\u001b[0m\u001b[0mengine_kwargs\u001b[0m\u001b[1;33m,\u001b[0m\u001b[1;33m\u001b[0m\u001b[1;33m\u001b[0m\u001b[0m\n\u001b[0m\u001b[0;32m    200\u001b[0m         )\n\u001b[0;32m    201\u001b[0m \u001b[1;33m\u001b[0m\u001b[0m\n",
      "\u001b[1;32m~\\anaconda3\\envs\\myenv\\lib\\site-packages\\pandas\\io\\excel\\_base.py\u001b[0m in \u001b[0;36m__init__\u001b[1;34m(self, path, engine, date_format, datetime_format, mode, storage_options, if_sheet_exists, engine_kwargs, **kwargs)\u001b[0m\n\u001b[0;32m    924\u001b[0m         \u001b[1;32mif\u001b[0m \u001b[1;32mnot\u001b[0m \u001b[0misinstance\u001b[0m\u001b[1;33m(\u001b[0m\u001b[0mpath\u001b[0m\u001b[1;33m,\u001b[0m \u001b[0mExcelWriter\u001b[0m\u001b[1;33m)\u001b[0m\u001b[1;33m:\u001b[0m\u001b[1;33m\u001b[0m\u001b[1;33m\u001b[0m\u001b[0m\n\u001b[0;32m    925\u001b[0m             self.handles = get_handle(\n\u001b[1;32m--> 926\u001b[1;33m                 \u001b[0mpath\u001b[0m\u001b[1;33m,\u001b[0m \u001b[0mmode\u001b[0m\u001b[1;33m,\u001b[0m \u001b[0mstorage_options\u001b[0m\u001b[1;33m=\u001b[0m\u001b[0mstorage_options\u001b[0m\u001b[1;33m,\u001b[0m \u001b[0mis_text\u001b[0m\u001b[1;33m=\u001b[0m\u001b[1;32mFalse\u001b[0m\u001b[1;33m\u001b[0m\u001b[1;33m\u001b[0m\u001b[0m\n\u001b[0m\u001b[0;32m    927\u001b[0m             )\n\u001b[0;32m    928\u001b[0m         \u001b[0mself\u001b[0m\u001b[1;33m.\u001b[0m\u001b[0msheets\u001b[0m\u001b[1;33m:\u001b[0m \u001b[0mdict\u001b[0m\u001b[1;33m[\u001b[0m\u001b[0mstr\u001b[0m\u001b[1;33m,\u001b[0m \u001b[0mAny\u001b[0m\u001b[1;33m]\u001b[0m \u001b[1;33m=\u001b[0m \u001b[1;33m{\u001b[0m\u001b[1;33m}\u001b[0m\u001b[1;33m\u001b[0m\u001b[1;33m\u001b[0m\u001b[0m\n",
      "\u001b[1;32m~\\anaconda3\\envs\\myenv\\lib\\site-packages\\pandas\\io\\common.py\u001b[0m in \u001b[0;36mget_handle\u001b[1;34m(path_or_buf, mode, encoding, compression, memory_map, is_text, errors, storage_options)\u001b[0m\n\u001b[0;32m    709\u001b[0m         \u001b[1;32melse\u001b[0m\u001b[1;33m:\u001b[0m\u001b[1;33m\u001b[0m\u001b[1;33m\u001b[0m\u001b[0m\n\u001b[0;32m    710\u001b[0m             \u001b[1;31m# Binary mode\u001b[0m\u001b[1;33m\u001b[0m\u001b[1;33m\u001b[0m\u001b[1;33m\u001b[0m\u001b[0m\n\u001b[1;32m--> 711\u001b[1;33m             \u001b[0mhandle\u001b[0m \u001b[1;33m=\u001b[0m \u001b[0mopen\u001b[0m\u001b[1;33m(\u001b[0m\u001b[0mhandle\u001b[0m\u001b[1;33m,\u001b[0m \u001b[0mioargs\u001b[0m\u001b[1;33m.\u001b[0m\u001b[0mmode\u001b[0m\u001b[1;33m)\u001b[0m\u001b[1;33m\u001b[0m\u001b[1;33m\u001b[0m\u001b[0m\n\u001b[0m\u001b[0;32m    712\u001b[0m         \u001b[0mhandles\u001b[0m\u001b[1;33m.\u001b[0m\u001b[0mappend\u001b[0m\u001b[1;33m(\u001b[0m\u001b[0mhandle\u001b[0m\u001b[1;33m)\u001b[0m\u001b[1;33m\u001b[0m\u001b[1;33m\u001b[0m\u001b[0m\n\u001b[0;32m    713\u001b[0m \u001b[1;33m\u001b[0m\u001b[0m\n",
      "\u001b[1;31mFileNotFoundError\u001b[0m: [Errno 2] No such file or directory: '/mnt/data/modified_SPXTRD_with_volatility.xlsx'"
     ]
    }
   ],
   "source": [
    "import pandas as pd\n",
    "import numpy as np\n",
    "\n",
    "# 读取数据\n",
    "file_path =  'C:/Users/22749/Desktop/UoG/Fintech/Dissertation/Data/modified_SPXTRD.xlsx'\n",
    "sheet_name = 'Price Data'\n",
    "\n",
    "# 读取Excel文件中的数据\n",
    "spxtrd_data = pd.read_excel(file_path, sheet_name=sheet_name)\n",
    "\n",
    "# 确保日期列为datetime类型，并设置为索引\n",
    "spxtrd_data['Date'] = pd.to_datetime(spxtrd_data['Date'])\n",
    "spxtrd_data.set_index('Date', inplace=True)\n",
    "\n",
    "# 检查数据的前几行\n",
    "print(\"Data head:\")\n",
    "print(spxtrd_data.head())\n",
    "\n",
    "# 计算每日对数收益率\n",
    "spxtrd_data['Log_Return'] = np.log(spxtrd_data['Close'] / spxtrd_data['Close'].shift(1))\n",
    "\n",
    "# 检查对数收益率的前几行\n",
    "print(\"Log Returns head:\")\n",
    "print(spxtrd_data['Log_Return'].head())\n",
    "\n",
    "# 计算月度波动性\n",
    "monthly_log_returns = spxtrd_data['Log_Return'].resample('M').std() * np.sqrt(30)\n",
    "\n",
    "# 将计算的月度波动性赋值回数据框\n",
    "spxtrd_data['Monthly_Volatility'] = monthly_log_returns.resample('M').ffill()\n",
    "\n",
    "# 填充空值\n",
    "spxtrd_data['Monthly_Volatility'].fillna(0, inplace=True)\n",
    "\n",
    "# 检查月度波动性的前几行\n",
    "print(\"Monthly Volatility head:\")\n",
    "print(spxtrd_data['Monthly_Volatility'].head())\n",
    "\n",
    "# 将结果写回Excel文件\n",
    "output_file_path = '/mnt/data/modified_SPXTRD_with_volatility.xlsx'\n",
    "with pd.ExcelWriter(output_file_path, engine='xlsxwriter') as writer:\n",
    "    spxtrd_data.to_excel(writer, sheet_name=sheet_name)\n",
    "\n",
    "output_file_path\n"
   ]
  },
  {
   "cell_type": "code",
   "execution_count": 18,
   "id": "9f937b16",
   "metadata": {},
   "outputs": [
    {
     "name": "stdout",
     "output_type": "stream",
     "text": [
      "Monthly Volatility head:\n",
      "            Monthly_Volatility\n",
      "Date                          \n",
      "2020-01-01                 0.0\n",
      "2020-02-01                 0.0\n",
      "2020-03-01                 0.0\n",
      "2020-04-01                 0.0\n",
      "2020-05-01                 0.0\n"
     ]
    }
   ],
   "source": [
    "import pandas as pd\n",
    "import numpy as np\n",
    "\n",
    "# 读取数据\n",
    "file_path = 'C:/Users/22749/Desktop/UoG/Fintech/Dissertation/Data/modified_SPXTRD.xlsx'\n",
    "sheet_name = 'Price Data'\n",
    "\n",
    "# 读取Excel文件中的数据\n",
    "spxtrd_data = pd.read_excel(file_path, sheet_name=sheet_name)\n",
    "\n",
    "# 确保日期列为datetime类型，并设置为索引\n",
    "spxtrd_data['Date'] = pd.to_datetime(spxtrd_data['Date'])\n",
    "spxtrd_data.set_index('Date', inplace=True)\n",
    "\n",
    "# 计算每日对数收益率\n",
    "spxtrd_data['Log_Return'] = np.log(spxtrd_data['Close'] / spxtrd_data['Close'].shift(1))\n",
    "a = spxtrd_data['Close'] / spxtrd_data['Close'].shift(1)\n",
    "b = np.log(a)\n",
    "\n",
    "\n",
    "# 计算每月波动性（标准差）\n",
    "spxtrd_data['Monthly_Volatility'] = spxtrd_data['Log_Return'].rolling(window=1).std()\n",
    "\n",
    "# 填充空值\n",
    "spxtrd_data['Monthly_Volatility'].fillna(0, inplace=True)\n",
    "\n",
    "# 创建一个新的数据框来存储月度波动性\n",
    "monthly_volatility_df = spxtrd_data[['Monthly_Volatility']]\n",
    "\n",
    "# 检查月度波动性的前几行\n",
    "print(\"Monthly Volatility head:\")\n",
    "print(monthly_volatility_df.head())\n",
    "\n"
   ]
  },
  {
   "cell_type": "code",
   "execution_count": null,
   "id": "cd42cf04",
   "metadata": {},
   "outputs": [],
   "source": []
  }
 ],
 "metadata": {
  "kernelspec": {
   "display_name": "Python (myenv)",
   "language": "python",
   "name": "myenv"
  },
  "language_info": {
   "codemirror_mode": {
    "name": "ipython",
    "version": 3
   },
   "file_extension": ".py",
   "mimetype": "text/x-python",
   "name": "python",
   "nbconvert_exporter": "python",
   "pygments_lexer": "ipython3",
   "version": "3.9.21"
  }
 },
 "nbformat": 4,
 "nbformat_minor": 5
}
