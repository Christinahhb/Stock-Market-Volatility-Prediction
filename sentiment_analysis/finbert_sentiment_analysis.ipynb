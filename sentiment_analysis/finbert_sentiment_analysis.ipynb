{
 "cells": [
  {
   "cell_type": "code",
   "execution_count": 1,
   "id": "536a03a0",
   "metadata": {},
   "outputs": [
    {
     "name": "stderr",
     "output_type": "stream",
     "text": [
      "C:\\Users\\22749\\anaconda3\\envs\\myenv\\lib\\site-packages\\bert_serving\\client\\__init__.py:299: UserWarning: some of your sentences have more tokens than \"max_seq_len=128\" set on the server, as consequence you may get less-accurate or truncated embeddings.\n",
      "here is what you can do:\n",
      "- disable the length-check by create a new \"BertClient(check_length=False)\" when you do not want to display this warning\n",
      "- or, start a new server with a larger \"max_seq_len\"\n",
      "  '- or, start a new server with a larger \"max_seq_len\"' % self.length_limit)\n"
     ]
    },
    {
     "name": "stdout",
     "output_type": "stream",
     "text": [
      "Sentiment analysis results saved to C:\\Users\\22749\\Desktop\\UoG\\Fintech\\Dissertation\\Data\\sentiment_results.xlsx\n"
     ]
    }
   ],
   "source": [
    "import os\n",
    "from bert_serving.client import BertClient\n",
    "import pandas as pd\n",
    "import numpy as np\n",
    "import re\n",
    "\n",
    "# 创建 BertClient 实例，并禁用长度检查\n",
    "bc = BertClient(check_length=True)\n",
    "\n",
    "# 指定要读取的文件目录路径\n",
    "directory_path = 'C:\\\\Users\\\\22749\\\\Desktop\\\\UoG\\\\Fintech\\\\Dissertation\\\\Data\\\\Cleaned_text'\n",
    "\n",
    "# 初始化结果列表\n",
    "results = []\n",
    "\n",
    "# 定义月份顺序\n",
    "months_order = [\"January\", \"February\", \"March\", \"April\", \"May\", \"June\", \n",
    "                \"July\", \"August\", \"September\", \"October\", \"November\", \"December\"]\n",
    "\n",
    "# 定义文件排序函数\n",
    "def sort_key(filename):\n",
    "    match = re.match(r\"([a-zA-Z]+)_(\\d{4})\\.txt\", filename)\n",
    "    if match:\n",
    "        month, year = match.groups()\n",
    "        month_index = months_order.index(month)\n",
    "        return (int(year), month_index)\n",
    "    return (9999, 0)  # 默认值以确保无效文件名排在最后\n",
    "\n",
    "# 读取目录中的所有文件并排序\n",
    "for filename in sorted(os.listdir(directory_path), key=sort_key):\n",
    "    file_path = os.path.join(directory_path, filename)\n",
    "    \n",
    "    with open(file_path, 'r', encoding='utf-8') as file:\n",
    "        text = file.read()\n",
    "    \n",
    "    # 使用 FinBERT 进行情绪分析\n",
    "    encoded_values = bc.encode([text])\n",
    "    \n",
    "    # 初始化情绪计数\n",
    "    positive_sum = 0\n",
    "    neutral_sum = 0\n",
    "    negative_sum = 0\n",
    "    \n",
    "    # 对每个情绪向量进行处理\n",
    "    for vector in encoded_values:\n",
    "        positive_sum += vector[0]\n",
    "        neutral_sum += vector[1]\n",
    "        negative_sum += vector[2]\n",
    "    \n",
    "    # 计算平均值\n",
    "    num_vectors = encoded_values.shape[0]\n",
    "    positive_avg = positive_sum / num_vectors\n",
    "    neutral_avg = neutral_sum / num_vectors\n",
    "    negative_avg = negative_sum / num_vectors\n",
    "    \n",
    "    # 将结果数组转换为逗号分隔的字符串\n",
    "    encoded_values_str = ', '.join(map(str, encoded_values[0]))\n",
    "    \n",
    "    # 将结果添加到列表中\n",
    "    results.append({\n",
    "        'Filename': filename,\n",
    "        'Model': 'finbert',\n",
    "        'Sentiment': encoded_values_str,\n",
    "        'Overall Positive Sentiment': positive_avg,\n",
    "        'Overall Neutral Sentiment': neutral_avg,\n",
    "        'Overall Negative Sentiment': negative_avg\n",
    "    })\n",
    "\n",
    "# 创建 DataFrame 并保存为 Excel 文件\n",
    "df = pd.DataFrame(results)\n",
    "output_path = 'C:\\\\Users\\\\22749\\\\Desktop\\\\UoG\\\\Fintech\\\\Dissertation\\\\Data\\\\sentiment_results.xlsx'\n",
    "df.to_excel(output_path, index=False)\n",
    "\n",
    "print(f'Sentiment analysis results saved to {output_path}')\n"
   ]
  },
  {
   "cell_type": "code",
   "execution_count": null,
   "id": "3079a515",
   "metadata": {},
   "outputs": [],
   "source": []
  }
 ],
 "metadata": {
  "kernelspec": {
   "display_name": "Python (myenv)",
   "language": "python",
   "name": "myenv"
  },
  "language_info": {
   "codemirror_mode": {
    "name": "ipython",
    "version": 3
   },
   "file_extension": ".py",
   "mimetype": "text/x-python",
   "name": "python",
   "nbconvert_exporter": "python",
   "pygments_lexer": "ipython3",
   "version": "3.7.1"
  }
 },
 "nbformat": 4,
 "nbformat_minor": 5
}
